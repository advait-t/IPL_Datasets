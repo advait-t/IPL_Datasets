{
  "nbformat": 4,
  "nbformat_minor": 0,
  "metadata": {
    "colab": {
      "name": "IPL_2021_data_prep.ipynb",
      "provenance": [],
      "collapsed_sections": [],
      "include_colab_link": true
    },
    "kernelspec": {
      "name": "python3",
      "display_name": "Python 3"
    },
    "accelerator": "GPU"
  },
  "cells": [
    {
      "cell_type": "markdown",
      "metadata": {
        "id": "view-in-github",
        "colab_type": "text"
      },
      "source": [
        "<a href=\"https://colab.research.google.com/github/advait-t/IPL_Datasets/blob/main/IPL_2021_data_prep.ipynb\" target=\"_parent\"><img src=\"https://colab.research.google.com/assets/colab-badge.svg\" alt=\"Open In Colab\"/></a>"
      ]
    },
    {
      "cell_type": "markdown",
      "metadata": {
        "id": "hyEyXgChmMxK"
      },
      "source": [
        "# IPL 2021"
      ]
    },
    {
      "cell_type": "code",
      "metadata": {
        "id": "dJhdYh8EBFVA"
      },
      "source": [
        "import datetime\n",
        "from datetime import date, timedelta\n",
        "import requests\n",
        "from bs4 import BeautifulSoup\n",
        "import pandas as pd\n",
        "import re\n",
        "import numpy as np\n",
        "import pytz\n",
        "from datetime import datetime, date, time"
      ],
      "execution_count": 1,
      "outputs": []
    },
    {
      "cell_type": "code",
      "metadata": {
        "id": "0-EbD1fPBeeA"
      },
      "source": [
        "pd.options.mode.chained_assignment = None"
      ],
      "execution_count": 2,
      "outputs": []
    },
    {
      "cell_type": "code",
      "metadata": {
        "colab": {
          "base_uri": "https://localhost:8080/"
        },
        "id": "hoyYS0SIOgpq",
        "outputId": "d6526ca3-a9bf-4df6-a029-1b8446472827"
      },
      "source": [
        "tz_in = pytz.timezone('Asia/Calcutta') \n",
        "datetime_in = datetime.now(tz_in)\n",
        "times = int(datetime_in.strftime(\"%H\"))\n",
        "\n",
        "print(\"India time:\", times)"
      ],
      "execution_count": 3,
      "outputs": [
        {
          "output_type": "stream",
          "text": [
            "India time: 9\n"
          ],
          "name": "stdout"
        }
      ]
    },
    {
      "cell_type": "code",
      "metadata": {
        "id": "TRN8dEmbmXAS",
        "colab": {
          "base_uri": "https://localhost:8080/",
          "height": 130
        },
        "outputId": "767f09fd-2060-4db4-8844-d56158e94b97"
      },
      "source": [
        "def season_stats():\n",
        "    sid=[1249214] #each season id on ESPN Cricinfo\n",
        "    mid=[1254058] #1st MatchID of each season\n",
        "    season = [14]\n",
        "    matches = 1\n",
        "    start = date(2021, 4, 9)\n",
        "    if times >= 19 and times <= 00:\n",
        "        today = date.today()\n",
        "        matches = matches - 1\n",
        "    elif times >= 00\n",
        "        \n",
        "    else:\n",
        "        today = date.today() - timedelta(1)\n",
        "    double = [date(2021, 4, 18),date(2021, 4, 21),date(2021, 4, 29),date(2021, 5, 2),date(2021, 5, 8),date(2021, 5, 9),date(2021, 5, 13),date(2021, 5, 16),date(2021, 5, 21),date(2021, 5, 23)]\n",
        "    for i in range(0,len(double)):\n",
        "        if ((int((double[i]-start).days)) <= (int((today-start).days))):\n",
        "            matches = (matches + 1)\n",
        "        else:\n",
        "            pass\n",
        "    matches = (matches + int((today-start).days))\n",
        "    return matches,season,sid,mid"
      ],
      "execution_count": 4,
      "outputs": [
        {
          "output_type": "error",
          "ename": "SyntaxError",
          "evalue": "ignored",
          "traceback": [
            "\u001b[0;36m  File \u001b[0;32m\"<ipython-input-4-3a5b70885d2c>\"\u001b[0;36m, line \u001b[0;32m10\u001b[0m\n\u001b[0;31m    elif times >= 00\u001b[0m\n\u001b[0m                    ^\u001b[0m\n\u001b[0;31mSyntaxError\u001b[0m\u001b[0;31m:\u001b[0m invalid syntax\n"
          ]
        }
      ]
    },
    {
      "cell_type": "code",
      "metadata": {
        "colab": {
          "base_uri": "https://localhost:8080/",
          "height": 164
        },
        "id": "jeaIk-NHN4J5",
        "outputId": "990553bc-3efd-42d6-ddad-672bbea8e93f"
      },
      "source": [
        "season_stats()"
      ],
      "execution_count": 5,
      "outputs": [
        {
          "output_type": "error",
          "ename": "NameError",
          "evalue": "ignored",
          "traceback": [
            "\u001b[0;31m---------------------------------------------------------------------------\u001b[0m",
            "\u001b[0;31mNameError\u001b[0m                                 Traceback (most recent call last)",
            "\u001b[0;32m<ipython-input-5-64f914cade92>\u001b[0m in \u001b[0;36m<module>\u001b[0;34m()\u001b[0m\n\u001b[0;32m----> 1\u001b[0;31m \u001b[0mseason_stats\u001b[0m\u001b[0;34m(\u001b[0m\u001b[0;34m)\u001b[0m\u001b[0;34m\u001b[0m\u001b[0;34m\u001b[0m\u001b[0m\n\u001b[0m",
            "\u001b[0;31mNameError\u001b[0m: name 'season_stats' is not defined"
          ]
        }
      ]
    },
    {
      "cell_type": "code",
      "metadata": {
        "id": "RQLqOrbg12yt"
      },
      "source": [
        "def extract_batting_data(series_id, match_id,season_id):\n",
        "\n",
        "    URL = 'https://www.espncricinfo.com/series/'+ str(series_id) + '/scorecard/' + str(match_id)\n",
        "    page = requests.get(URL)\n",
        "    try:\n",
        "        bs = BeautifulSoup(page.content, 'lxml')\n",
        "        table_body=bs.find_all('tbody')\n",
        "        batsmen_df = pd.DataFrame(columns=[\"Name\",\"Description\",\"Runs\", \"Balls\", \"4s\", \"6s\", \"SR\", \"Team\",\"Match_id\",\"Season\"])\n",
        "        for i, table in enumerate(table_body[0:4:2]):\n",
        "            rows = table.find_all('tr')\n",
        "            for row in rows[::2]:\n",
        "                cols=row.find_all('td')\n",
        "                cols=[x.text.strip() for x in cols]\n",
        "                if cols[0] == 'Extras':\n",
        "                    continue\n",
        "                if len(cols) > 7:\n",
        "                    batsmen_df = batsmen_df.append(pd.Series(\n",
        "                    [re.sub(r\"\\W+\", ' ', cols[0].split(\"(c)\")[0]).strip(), cols[1], \n",
        "                    cols[2], cols[3], cols[5], cols[6], cols[7],i+1,match_id,season_id], \n",
        "                    index=batsmen_df.columns ), ignore_index=True)\n",
        "                else:\n",
        "                    batsmen_df = batsmen_df.append(pd.Series(\n",
        "                    [re.sub(r\"\\W+\", ' ', cols[0].split(\"(c)\")[0]).strip(), cols[1], \n",
        "                    0, 0, 0, 0, 0, i+1], index = batsmen_df.columns), ignore_index=True)\n",
        "    except:\n",
        "        pass \n",
        "    return batsmen_df"
      ],
      "execution_count": null,
      "outputs": []
    },
    {
      "cell_type": "code",
      "metadata": {
        "id": "zT63gCYwmV5n"
      },
      "source": [
        "def batting_csv(matches,season,sid,mid):\n",
        "    batting_data1=[]\n",
        "    for n,i in enumerate(season):\n",
        "        if (sid[n]==1249214):\n",
        "            a = matches\n",
        "        for j in range(mid[n],mid[n]+a):\n",
        "            #print(i,j)\n",
        "            x=extract_batting_data(series_id = i, match_id = j,season_id=i)\n",
        "            batting_data1.append(x)\n",
        "            batting_data=pd.concat(batting_data1)\n",
        "    batting_data.to_csv('/content/batting_data_IPL14.csv')"
      ],
      "execution_count": null,
      "outputs": []
    },
    {
      "cell_type": "code",
      "metadata": {
        "id": "55Em4EX7nMhy"
      },
      "source": [
        "def extract_bowling_data(series_id, match_id,season_id):\n",
        "\n",
        "    URL = 'https://www.espncricinfo.com/series/'+ str(series_id) + '/scorecard/' + str(match_id)\n",
        "    page = requests.get(URL)\n",
        "    try:\n",
        "        bs = BeautifulSoup(page.content, 'lxml')\n",
        "\n",
        "        table_body=bs.find_all('tbody')\n",
        "        bowler_df = pd.DataFrame(columns=['Name', 'Overs', 'Maidens', 'Runs', 'Wickets',\n",
        "                                        'Econ', 'Dots', '4s', '6s', 'Wd', 'Nb','Team','Match_id','Season'])\n",
        "        for i, table in enumerate(table_body[1:4:2]):\n",
        "            rows = table.find_all('tr')\n",
        "            for row in rows:\n",
        "                cols=row.find_all('td')\n",
        "                cols=[x.text.strip() for x in cols]\n",
        "                bowler_df = bowler_df.append(pd.Series([cols[0], cols[1], cols[2], cols[3], cols[4], cols[5], \n",
        "                                                        cols[6], cols[7], cols[8], cols[9], cols[10], (i==0)+1,match_id,season_id], \n",
        "                                                    index=bowler_df.columns ), ignore_index=True)\n",
        "    except:\n",
        "        pass\n",
        "    return bowler_df"
      ],
      "execution_count": null,
      "outputs": []
    },
    {
      "cell_type": "code",
      "metadata": {
        "id": "YQHJzrFrnUhd"
      },
      "source": [
        "def bowling_csv(matches,season,sid,mid):\n",
        "    bowling_data1=[]\n",
        "    for n,i in enumerate(season):\n",
        "        if (sid[n]==1249214):\n",
        "            a = matches\n",
        "        for j in range(mid[n],mid[n]+a):\n",
        "            #print(i,j)\n",
        "            x=extract_bowling_data(series_id = i, match_id = j,season_id=i)\n",
        "            bowling_data1.append(x)\n",
        "            bowling_data=pd.concat(bowling_data1)\n",
        "            bowling_data.to_csv('/content/bowling_data_IPL14.csv')"
      ],
      "execution_count": null,
      "outputs": []
    },
    {
      "cell_type": "code",
      "metadata": {
        "id": "wRNwG_OIdX9S"
      },
      "source": [
        "matches, season, sid, mid = season_stats()\n",
        "batting_csv(matches, season, sid, mid)\n",
        "bowling_csv(matches, season, sid, mid)"
      ],
      "execution_count": null,
      "outputs": []
    },
    {
      "cell_type": "markdown",
      "metadata": {
        "id": "GgR5xfUxuP5N"
      },
      "source": [
        "# Fantasy Points Function"
      ]
    },
    {
      "cell_type": "code",
      "metadata": {
        "id": "AQMl2g1wDCzj"
      },
      "source": [
        "#Batting"
      ],
      "execution_count": null,
      "outputs": []
    },
    {
      "cell_type": "code",
      "metadata": {
        "id": "VZIUTJgmvceg"
      },
      "source": [
        "def bat_fantasy(batting_data):\n",
        "    convert_dict = {'Runs': int,\n",
        "                    'Balls':int,\n",
        "                    '4s': int,\n",
        "                    '6s': int,\n",
        "                    'SR': float\n",
        "                }\n",
        "    \n",
        "    batting_data = batting_data.astype(convert_dict)\n",
        "    bat_fantasy_cal(batting_data)"
      ],
      "execution_count": null,
      "outputs": []
    },
    {
      "cell_type": "code",
      "metadata": {
        "id": "wZjk1lUTu0dk"
      },
      "source": [
        "def bat_fantasy_cal(batting_data):\n",
        "\n",
        "    batting_data['Fantasy_Points'] = batting_data['Runs']\n",
        "\n",
        "    for i in range(len(batting_data['4s'])):\n",
        "        if (batting_data.iloc[i]['4s'] >= 1):\n",
        "            batting_data['Fantasy_Points'][i] = batting_data.iloc[i]['Fantasy_Points']+batting_data.iloc[i]['4s']\n",
        "            \n",
        "    for j in range(len(batting_data['6s'])):\n",
        "        if (batting_data.iloc[j]['6s'] >= 1):\n",
        "            batting_data['Fantasy_Points'][j] = batting_data.iloc[j]['Fantasy_Points']+(2*(batting_data.iloc[j]['6s']))\n",
        "\n",
        "    for k in range(len(batting_data['Runs'])):\n",
        "        if (batting_data.iloc[k]['Runs'] >= 30 and batting_data.iloc[k]['Runs'] < 50):\n",
        "            batting_data['Fantasy_Points'][k] = batting_data.iloc[k]['Fantasy_Points']+4\n",
        "        elif (batting_data.iloc[k]['Runs'] >= 50 and batting_data.iloc[k]['Runs'] < 100):\n",
        "            batting_data['Fantasy_Points'][k] = batting_data.iloc[k]['Fantasy_Points']+12\n",
        "        elif (batting_data.iloc[k]['Runs'] >= 100):\n",
        "            batting_data['Fantasy_Points'][k] = batting_data.iloc[k]['Fantasy_Points']+16\n",
        "        elif (batting_data.iloc[k]['Runs'] == 0):\n",
        "            batting_data['Fantasy_Points'][k] = batting_data.iloc[k]['Fantasy_Points']-2\n",
        "\n",
        "    for l in range(len(batting_data['Balls'])):\n",
        "        if (batting_data.iloc[l]['Balls']>=10):\n",
        "            if (batting_data.iloc[l]['SR'] >= 170):\n",
        "                batting_data['Fantasy_Points'][l] = batting_data.iloc[l]['Fantasy_Points']+6\n",
        "\n",
        "            elif (batting_data.iloc[l]['SR'] >= 150.01 and batting_data.iloc[l]['SR'] < 170):\n",
        "                batting_data['Fantasy_Points'][l] = batting_data.iloc[l]['Fantasy_Points']+4\n",
        "\n",
        "            elif (batting_data.iloc[l]['SR'] >= 130 and batting_data.iloc[l]['SR'] <= 150):\n",
        "                batting_data['Fantasy_Points'][l] = batting_data.iloc[l]['Fantasy_Points']+2\n",
        "\n",
        "            elif (batting_data.iloc[l]['SR'] >= 60 and batting_data.iloc[l]['SR'] <= 70):\n",
        "                batting_data['Fantasy_Points'][l] = batting_data.iloc[l]['Fantasy_Points']-2\n",
        "\n",
        "            elif (batting_data.iloc[l]['SR'] >= 50 and batting_data.iloc[l]['SR'] <= 59.99):\n",
        "                batting_data['Fantasy_Points'][l] = batting_data.iloc[l]['Fantasy_Points']-4\n",
        "\n",
        "            elif (batting_data.iloc[l]['SR'] < 50):\n",
        "                batting_data['Fantasy_Points'][l] = batting_data.iloc[l]['Fantasy_Points']-6\n",
        "    return batting_data\n",
        "    #batting_data.to_csv('/content/batting_data_IPL14.csv')"
      ],
      "execution_count": null,
      "outputs": []
    },
    {
      "cell_type": "code",
      "metadata": {
        "id": "PErRJk9gWZoh"
      },
      "source": [
        "batting_data = pd.read_csv('/content/batting_data_IPL14.csv')\n",
        "batting_data = bat_fantasy(batting_data)"
      ],
      "execution_count": null,
      "outputs": []
    },
    {
      "cell_type": "code",
      "metadata": {
        "id": "0JgyJgXMDGna"
      },
      "source": [
        "#Bowling"
      ],
      "execution_count": null,
      "outputs": []
    },
    {
      "cell_type": "code",
      "metadata": {
        "id": "VofppoaVzF2f"
      },
      "source": [
        "def bowl_fantasy(bowling_data):\n",
        "    convert_dict = {'Runs': int,\n",
        "                    'Maidens':int,\n",
        "                    'Overs': float,\n",
        "                    '6s': int,\n",
        "                    '4s': int,\n",
        "                    'Wd': int,\n",
        "                    'Nb': int,\n",
        "                    'Dots': int,\n",
        "                    'Econ': float,\n",
        "                    'Wickets': int\n",
        "                }\n",
        "    \n",
        "    bowling_data = bowling_data.astype(convert_dict)\n",
        "    bowl_fantasy_cal(bowling_data)"
      ],
      "execution_count": null,
      "outputs": []
    },
    {
      "cell_type": "code",
      "metadata": {
        "id": "QLlzsGI9Dzb5"
      },
      "source": [
        "def bowl_fantasy_cal(bowling_data):\n",
        "    bowling_data['Fantasy_Points'] = 0\n",
        "    for i in range(len(bowling_data['Wickets'])):\n",
        "        if (bowling_data.iloc[i]['Wickets'] >= 1):\n",
        "            bowling_data['Fantasy_Points'][i] = bowling_data.iloc[i]['Wickets']*25\n",
        "\n",
        "            if (bowling_data.iloc[i]['Wickets'] == 3):\n",
        "                bowling_data['Fantasy_Points'][i] = bowling_data.iloc[i]['Fantasy_Points'] + 4\n",
        "            elif (bowling_data.iloc[i]['Wickets'] == 4):\n",
        "                bowling_data['Fantasy_Points'][i] = bowling_data.iloc[i]['Fantasy_Points'] + 8\n",
        "            elif (bowling_data.iloc[i]['Wickets'] == 5):\n",
        "                bowling_data['Fantasy_Points'][i] = bowling_data.iloc[i]['Fantasy_Points'] + 16\n",
        "\n",
        "    for j in range(len(bowling_data['Maidens'])):\n",
        "        if (bowling_data.iloc[j]['Maidens'] >= 1):\n",
        "            bowling_data['Fantasy_Points'][j] = bowling_data.iloc[j]['Fantasy_Points'] + (bowling_data.iloc[j]['Maidens']*12)\n",
        "\n",
        "    for k in range(len(bowling_data['Overs'])):\n",
        "\n",
        "        if (bowling_data.iloc[k]['Overs'] >= 2):\n",
        "\n",
        "            if (bowling_data.iloc[j]['Econ'] < 5.0):\n",
        "                bowling_data['Fantasy_Points'][k] = bowling_data.iloc[k]['Fantasy_Points'] + 6\n",
        "\n",
        "            elif (bowling_data.iloc[j]['Econ'] >= 5.0 and bowling_data.iloc[j]['Econ'] <= 5.99):\n",
        "                bowling_data['Fantasy_Points'][k] = bowling_data.iloc[k]['Fantasy_Points'] + 4\n",
        "\n",
        "            elif (bowling_data.iloc[j]['Econ'] >= 6.0 and bowling_data.iloc[j]['Econ'] <= 7.0):\n",
        "                bowling_data['Fantasy_Points'][k] = bowling_data.iloc[k]['Fantasy_Points'] + 2\n",
        "\n",
        "            elif (bowling_data.iloc[j]['Econ'] >= 10.0 and bowling_data.iloc[j]['Econ'] <= 11.0):\n",
        "                bowling_data['Fantasy_Points'][k] = bowling_data.iloc[k]['Fantasy_Points'] - 2\n",
        "\n",
        "            elif (bowling_data.iloc[j]['Econ'] >= 11.01 and bowling_data.iloc[j]['Econ'] <= 12.0):\n",
        "                bowling_data['Fantasy_Points'][k] = bowling_data.iloc[k]['Fantasy_Points'] - 4\n",
        "\n",
        "            elif (bowling_data.iloc[j]['Econ'] >= 12.0):\n",
        "                bowling_data['Fantasy_Points'][k] = bowling_data.iloc[k]['Fantasy_Points'] - 6\n",
        "    return bowling_data\n",
        "    #bowling_data.to_csv('/content/bowling_data_IPL14.csv')"
      ],
      "execution_count": null,
      "outputs": []
    },
    {
      "cell_type": "code",
      "metadata": {
        "id": "uC04kqvqEhfc"
      },
      "source": [
        "bowling_data = pd.read_csv('/content/bowling_data_IPL14.csv')\n",
        "bowling_data = bowl_fantasy(bowling_data)"
      ],
      "execution_count": null,
      "outputs": []
    },
    {
      "cell_type": "code",
      "metadata": {
        "id": "HSinoJdtG-ug"
      },
      "source": [
        ""
      ],
      "execution_count": null,
      "outputs": []
    }
  ]
}